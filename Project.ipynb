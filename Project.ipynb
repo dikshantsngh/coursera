{
 "cells": [
  {
   "cell_type": "markdown",
   "id": "e958b095-a2e3-453f-8b5d-cbab48fa4c8b",
   "metadata": {
    "tags": []
   },
   "source": [
    "# My Jupyter Notebook on IBM Watson Studio"
   ]
  },
  {
   "cell_type": "markdown",
   "id": "10cd5e18-7b63-4649-909e-d34688d0ff89",
   "metadata": {},
   "source": [
    "**Dikshant Singh**"
   ]
  },
  {
   "cell_type": "markdown",
   "id": "74c7e85e-382a-450d-bb42-546ddcab2cf5",
   "metadata": {},
   "source": [
    "*I am interested in data science because i like to learn more about Machine Learning*"
   ]
  },
  {
   "cell_type": "markdown",
   "id": "ecfeaddf-68ff-48e3-82a1-5cc43f84867e",
   "metadata": {},
   "source": [
    "### The below should print \"Hello, World.\""
   ]
  },
  {
   "cell_type": "code",
   "execution_count": 1,
   "id": "a165bbd1-0f28-4731-a5a3-b65218720b17",
   "metadata": {},
   "outputs": [
    {
     "name": "stdout",
     "output_type": "stream",
     "text": [
      "Hello, World\n"
     ]
    }
   ],
   "source": [
    "print('Hello, World')"
   ]
  },
  {
   "cell_type": "markdown",
   "id": "8b5a2082-8798-4475-ae28-af65ec4f4821",
   "metadata": {},
   "source": [
    " * One                                                                       \n",
    " | Markdown | Less | Pretty |\n",
    " | ----| ----| ----|\n",
    " | still   | renders | nicely |\n",
    " | 1 | 2 | 3|\n"
   ]
  }
 ],
 "metadata": {
  "kernelspec": {
   "display_name": "Python",
   "language": "python",
   "name": "conda-env-python-py"
  },
  "language_info": {
   "codemirror_mode": {
    "name": "ipython",
    "version": 3
   },
   "file_extension": ".py",
   "mimetype": "text/x-python",
   "name": "python",
   "nbconvert_exporter": "python",
   "pygments_lexer": "ipython3",
   "version": "3.7.12"
  }
 },
 "nbformat": 4,
 "nbformat_minor": 5
}
